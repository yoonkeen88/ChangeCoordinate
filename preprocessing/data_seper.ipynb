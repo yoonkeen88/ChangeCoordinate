{
 "cells": [
  {
   "cell_type": "markdown",
   "metadata": {},
   "source": [
    "#### 데이터 10개로 쪼개기기"
   ]
  },
  {
   "cell_type": "code",
   "execution_count": 1,
   "metadata": {},
   "outputs": [],
   "source": [
    "import pandas as pd"
   ]
  },
  {
   "cell_type": "markdown",
   "metadata": {},
   "source": []
  },
  {
   "cell_type": "code",
   "execution_count": 2,
   "metadata": {},
   "outputs": [],
   "source": [
    "df = pd.read_csv('C:/python_project/predict_price/DATA/4_final_lease.csv')\n",
    "df = df.drop(['Unnamed: 0'], axis=1)"
   ]
  },
  {
   "cell_type": "code",
   "execution_count": 3,
   "metadata": {},
   "outputs": [
    {
     "data": {
      "text/plain": [
       "Index(['보증금(만원)', '보증금_log', '보증금 변화', '종전계약 보증금(만원)', '단지별_평균_보증금',\n",
       "       '단지별_평균_보증금_log', 'index', 'rate', 'pp_rate', '금융위기_경과년수', '계약날짜',\n",
       "       '계약연도', '계약분기', '계약개월수', '계약구분_보완', 'is_new_contract', 'is_renewal',\n",
       "       '갱신요구권 사용', '주택유형', '전용면적(㎡)', '건축년도', '층', '단지갯수', '동', '전체주소'],\n",
       "      dtype='object')"
      ]
     },
     "execution_count": 3,
     "metadata": {},
     "output_type": "execute_result"
    }
   ],
   "source": [
    "df.columns"
   ]
  },
  {
   "cell_type": "code",
   "execution_count": 4,
   "metadata": {},
   "outputs": [
    {
     "data": {
      "text/plain": [
       "0             서울특별시 성동구 마장로37길 7\n",
       "1               서울특별시 성동구 행당로 82\n",
       "2               서울특별시 성동구 행당로 79\n",
       "3               서울특별시 종로구 송월길 99\n",
       "4              서울특별시 용산구 독서당로 46\n",
       "                   ...          \n",
       "1024926        서울특별시 동대문구 장한로 80\n",
       "1024927    서울특별시 동대문구 장한로26나길 21\n",
       "1024928     서울특별시 강서구 마곡동로10길 23\n",
       "1024929    서울특별시 도봉구 노해로63가길 229\n",
       "1024930       서울특별시 마포구 모래내로1길 8\n",
       "Name: 전체주소, Length: 1024931, dtype: object"
      ]
     },
     "execution_count": 4,
     "metadata": {},
     "output_type": "execute_result"
    }
   ],
   "source": [
    "df['전체주소']"
   ]
  },
  {
   "cell_type": "code",
   "execution_count": null,
   "metadata": {},
   "outputs": [],
   "source": []
  }
 ],
 "metadata": {
  "kernelspec": {
   "display_name": "myenv",
   "language": "python",
   "name": "python3"
  },
  "language_info": {
   "codemirror_mode": {
    "name": "ipython",
    "version": 3
   },
   "file_extension": ".py",
   "mimetype": "text/x-python",
   "name": "python",
   "nbconvert_exporter": "python",
   "pygments_lexer": "ipython3",
   "version": "3.13.1"
  }
 },
 "nbformat": 4,
 "nbformat_minor": 2
}
